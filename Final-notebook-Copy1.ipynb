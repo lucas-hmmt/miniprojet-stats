{
 "cells": [
  {
   "cell_type": "markdown",
   "id": "e402f2d4",
   "metadata": {},
   "source": [
    "# Mini-projet - MDI220 Statistics"
   ]
  },
  {
   "cell_type": "code",
   "execution_count": 141,
   "id": "1c698143",
   "metadata": {},
   "outputs": [],
   "source": [
    "import pandas as pd\n",
    "import numpy as np\n",
    "import math\n",
    "import statistics\n",
    "import scipy.stats as stats\n",
    "import matplotlib.pyplot as plt\n",
    "import seaborn as sns\n",
    "\n",
    "from IPython.display import Image\n",
    "from IPython.core.display import HTML "
   ]
  },
  {
   "cell_type": "markdown",
   "id": "0fa5f037",
   "metadata": {},
   "source": [
    "## Question 1"
   ]
  },
  {
   "cell_type": "code",
   "execution_count": 142,
   "id": "20f7a5df",
   "metadata": {},
   "outputs": [],
   "source": [
    "df = pd.read_csv('NuclearPowerAccidents2016.csv')"
   ]
  },
  {
   "cell_type": "code",
   "execution_count": 143,
   "id": "71765604",
   "metadata": {},
   "outputs": [
    {
     "data": {
      "text/html": [
       "<div>\n",
       "<style scoped>\n",
       "    .dataframe tbody tr th:only-of-type {\n",
       "        vertical-align: middle;\n",
       "    }\n",
       "\n",
       "    .dataframe tbody tr th {\n",
       "        vertical-align: top;\n",
       "    }\n",
       "\n",
       "    .dataframe thead th {\n",
       "        text-align: right;\n",
       "    }\n",
       "</style>\n",
       "<table border=\"1\" class=\"dataframe\">\n",
       "  <thead>\n",
       "    <tr style=\"text-align: right;\">\n",
       "      <th></th>\n",
       "      <th>Date</th>\n",
       "      <th>Location</th>\n",
       "      <th>Cost (millions 2013US$)</th>\n",
       "      <th>INES</th>\n",
       "      <th>Smyth Magnitude</th>\n",
       "      <th>Region</th>\n",
       "      <th>Description</th>\n",
       "      <th>Fatalities</th>\n",
       "    </tr>\n",
       "  </thead>\n",
       "  <tbody>\n",
       "    <tr>\n",
       "      <th>0</th>\n",
       "      <td>4/26/1986</td>\n",
       "      <td>Kiev, Ukraine</td>\n",
       "      <td>259336.0</td>\n",
       "      <td>7.0</td>\n",
       "      <td>8.0</td>\n",
       "      <td>EE</td>\n",
       "      <td>Mishandled reactor safety test at Chernobyl nu...</td>\n",
       "      <td>4056</td>\n",
       "    </tr>\n",
       "    <tr>\n",
       "      <th>1</th>\n",
       "      <td>3/11/2011</td>\n",
       "      <td>Fukushima Prefecture, Japan</td>\n",
       "      <td>166089.0</td>\n",
       "      <td>7.0</td>\n",
       "      <td>7.5</td>\n",
       "      <td>A</td>\n",
       "      <td>An earthquake and tsunami caused emergency bac...</td>\n",
       "      <td>573</td>\n",
       "    </tr>\n",
       "    <tr>\n",
       "      <th>2</th>\n",
       "      <td>12/8/1995</td>\n",
       "      <td>Tsuruga, Japan</td>\n",
       "      <td>15500.0</td>\n",
       "      <td>NaN</td>\n",
       "      <td>NaN</td>\n",
       "      <td>A</td>\n",
       "      <td>Japan's only fast breeder reactor Monju suffer...</td>\n",
       "      <td>0</td>\n",
       "    </tr>\n",
       "    <tr>\n",
       "      <th>3</th>\n",
       "      <td>3/28/1979</td>\n",
       "      <td>Middletown, Pennsylvania, United States</td>\n",
       "      <td>10910.0</td>\n",
       "      <td>5.0</td>\n",
       "      <td>7.9</td>\n",
       "      <td>NaN</td>\n",
       "      <td>Equipment failure and operator error contribut...</td>\n",
       "      <td>0</td>\n",
       "    </tr>\n",
       "    <tr>\n",
       "      <th>4</th>\n",
       "      <td>9/11/1957</td>\n",
       "      <td>Rocky Flats, USA</td>\n",
       "      <td>8189.0</td>\n",
       "      <td>5.0</td>\n",
       "      <td>5.2</td>\n",
       "      <td>NaN</td>\n",
       "      <td>Fire starts and destroys plutonium processing ...</td>\n",
       "      <td>0</td>\n",
       "    </tr>\n",
       "  </tbody>\n",
       "</table>\n",
       "</div>"
      ],
      "text/plain": [
       "        Date                                 Location  \\\n",
       "0  4/26/1986                            Kiev, Ukraine   \n",
       "1  3/11/2011              Fukushima Prefecture, Japan   \n",
       "2  12/8/1995                           Tsuruga, Japan   \n",
       "3  3/28/1979  Middletown, Pennsylvania, United States   \n",
       "4  9/11/1957                         Rocky Flats, USA   \n",
       "\n",
       "   Cost (millions 2013US$)  INES  Smyth Magnitude Region  \\\n",
       "0                 259336.0   7.0              8.0     EE   \n",
       "1                 166089.0   7.0              7.5      A   \n",
       "2                  15500.0   NaN              NaN      A   \n",
       "3                  10910.0   5.0              7.9    NaN   \n",
       "4                   8189.0   5.0              5.2    NaN   \n",
       "\n",
       "                                         Description  Fatalities  \n",
       "0  Mishandled reactor safety test at Chernobyl nu...        4056  \n",
       "1  An earthquake and tsunami caused emergency bac...         573  \n",
       "2  Japan's only fast breeder reactor Monju suffer...           0  \n",
       "3  Equipment failure and operator error contribut...           0  \n",
       "4  Fire starts and destroys plutonium processing ...           0  "
      ]
     },
     "execution_count": 143,
     "metadata": {},
     "output_type": "execute_result"
    }
   ],
   "source": [
    "df.head()"
   ]
  },
  {
   "cell_type": "code",
   "execution_count": 144,
   "id": "dc1147bd",
   "metadata": {},
   "outputs": [
    {
     "data": {
      "text/html": [
       "<div>\n",
       "<style scoped>\n",
       "    .dataframe tbody tr th:only-of-type {\n",
       "        vertical-align: middle;\n",
       "    }\n",
       "\n",
       "    .dataframe tbody tr th {\n",
       "        vertical-align: top;\n",
       "    }\n",
       "\n",
       "    .dataframe thead th {\n",
       "        text-align: right;\n",
       "    }\n",
       "</style>\n",
       "<table border=\"1\" class=\"dataframe\">\n",
       "  <thead>\n",
       "    <tr style=\"text-align: right;\">\n",
       "      <th></th>\n",
       "      <th>Cost (millions 2013US$)</th>\n",
       "      <th>INES</th>\n",
       "      <th>Smyth Magnitude</th>\n",
       "      <th>Fatalities</th>\n",
       "    </tr>\n",
       "  </thead>\n",
       "  <tbody>\n",
       "    <tr>\n",
       "      <th>count</th>\n",
       "      <td>175.000000</td>\n",
       "      <td>104.000000</td>\n",
       "      <td>33.000000</td>\n",
       "      <td>216.000000</td>\n",
       "    </tr>\n",
       "    <tr>\n",
       "      <th>mean</th>\n",
       "      <td>2892.647429</td>\n",
       "      <td>2.884615</td>\n",
       "      <td>3.293939</td>\n",
       "      <td>22.245370</td>\n",
       "    </tr>\n",
       "    <tr>\n",
       "      <th>std</th>\n",
       "      <td>23228.395686</td>\n",
       "      <td>1.463522</td>\n",
       "      <td>2.386412</td>\n",
       "      <td>278.570854</td>\n",
       "    </tr>\n",
       "    <tr>\n",
       "      <th>min</th>\n",
       "      <td>0.000000</td>\n",
       "      <td>0.000000</td>\n",
       "      <td>-2.700000</td>\n",
       "      <td>0.000000</td>\n",
       "    </tr>\n",
       "    <tr>\n",
       "      <th>25%</th>\n",
       "      <td>5.800000</td>\n",
       "      <td>2.000000</td>\n",
       "      <td>2.000000</td>\n",
       "      <td>0.000000</td>\n",
       "    </tr>\n",
       "    <tr>\n",
       "      <th>50%</th>\n",
       "      <td>37.500000</td>\n",
       "      <td>3.000000</td>\n",
       "      <td>3.200000</td>\n",
       "      <td>0.000000</td>\n",
       "    </tr>\n",
       "    <tr>\n",
       "      <th>75%</th>\n",
       "      <td>157.400000</td>\n",
       "      <td>4.000000</td>\n",
       "      <td>4.300000</td>\n",
       "      <td>0.000000</td>\n",
       "    </tr>\n",
       "    <tr>\n",
       "      <th>max</th>\n",
       "      <td>259336.000000</td>\n",
       "      <td>7.000000</td>\n",
       "      <td>8.000000</td>\n",
       "      <td>4056.000000</td>\n",
       "    </tr>\n",
       "  </tbody>\n",
       "</table>\n",
       "</div>"
      ],
      "text/plain": [
       "       Cost (millions 2013US$)        INES  Smyth Magnitude   Fatalities\n",
       "count               175.000000  104.000000        33.000000   216.000000\n",
       "mean               2892.647429    2.884615         3.293939    22.245370\n",
       "std               23228.395686    1.463522         2.386412   278.570854\n",
       "min                   0.000000    0.000000        -2.700000     0.000000\n",
       "25%                   5.800000    2.000000         2.000000     0.000000\n",
       "50%                  37.500000    3.000000         3.200000     0.000000\n",
       "75%                 157.400000    4.000000         4.300000     0.000000\n",
       "max              259336.000000    7.000000         8.000000  4056.000000"
      ]
     },
     "execution_count": 144,
     "metadata": {},
     "output_type": "execute_result"
    }
   ],
   "source": [
    "df.describe()"
   ]
  },
  {
   "cell_type": "code",
   "execution_count": 145,
   "id": "6a289e8b",
   "metadata": {},
   "outputs": [
    {
     "data": {
      "text/plain": [
       "Index(['Date', 'Location', 'Cost (millions 2013US$)', 'INES',\n",
       "       'Smyth Magnitude', 'Region', 'Description', 'Fatalities'],\n",
       "      dtype='object')"
      ]
     },
     "execution_count": 145,
     "metadata": {},
     "output_type": "execute_result"
    }
   ],
   "source": [
    "df.columns"
   ]
  },
  {
   "cell_type": "code",
   "execution_count": 146,
   "id": "aeab8a87",
   "metadata": {},
   "outputs": [],
   "source": [
    "#On retire les lignes où le coût est vide\n",
    "df = df.dropna(subset=['Cost (millions 2013US$)'])"
   ]
  },
  {
   "cell_type": "code",
   "execution_count": 147,
   "id": "4113158a",
   "metadata": {},
   "outputs": [],
   "source": [
    "#On commence par convertir les dates, qui sont de type \"string\", en date que Python pourra reconnaître\n",
    "df['Date'] = pd.to_datetime(df['Date'], dayfirst=True, format=\"%m/%d/%Y\")"
   ]
  },
  {
   "cell_type": "code",
   "execution_count": 148,
   "id": "e25de48e",
   "metadata": {},
   "outputs": [],
   "source": [
    "#Puis on filtre le dataset par rapport à la date de l'incident, le 28/03/1979\n",
    "df = df[df['Date'] < '1979-03-28']"
   ]
  },
  {
   "cell_type": "code",
   "execution_count": 149,
   "id": "828fbf03",
   "metadata": {},
   "outputs": [
    {
     "data": {
      "text/plain": [
       "(55, 8)"
      ]
     },
     "execution_count": 149,
     "metadata": {},
     "output_type": "execute_result"
    }
   ],
   "source": [
    "#On vérifie l'information donnée par l'énoncé : il nous reste bien 55 observations\n",
    "df.shape"
   ]
  },
  {
   "cell_type": "code",
   "execution_count": 150,
   "id": "62ddb809",
   "metadata": {},
   "outputs": [],
   "source": [
    "#On ne conserve que la colonne des dates pour la suite :"
   ]
  },
  {
   "cell_type": "code",
   "execution_count": 151,
   "id": "6f8e37c8",
   "metadata": {},
   "outputs": [
    {
     "data": {
      "text/plain": [
       "4      8189.0\n",
       "5      4400.0\n",
       "6      3500.0\n",
       "7      2900.0\n",
       "8      2500.0\n",
       "10     1964.5\n",
       "11     1900.0\n",
       "12     1733.4\n",
       "13     1500.0\n",
       "14     1330.0\n",
       "15     1300.0\n",
       "17     1100.0\n",
       "18     1100.0\n",
       "21      990.0\n",
       "24      800.0\n",
       "25      793.9\n",
       "26      788.4\n",
       "29      541.4\n",
       "30      511.5\n",
       "33      425.2\n",
       "38      277.1\n",
       "41      180.0\n",
       "44      150.0\n",
       "52      100.0\n",
       "53      100.0\n",
       "54       99.5\n",
       "55       98.0\n",
       "56       89.9\n",
       "58       87.7\n",
       "60       84.5\n",
       "62       77.0\n",
       "70       60.1\n",
       "73       52.4\n",
       "86       38.0\n",
       "87       37.5\n",
       "95       25.7\n",
       "96       25.7\n",
       "101      17.1\n",
       "103      16.1\n",
       "106      15.0\n",
       "108      13.9\n",
       "115      11.8\n",
       "121      11.4\n",
       "130       6.1\n",
       "135       4.4\n",
       "157       1.2\n",
       "158       1.1\n",
       "161       0.0\n",
       "162       0.0\n",
       "163       0.0\n",
       "164       0.0\n",
       "165       0.0\n",
       "166       0.0\n",
       "167       0.0\n",
       "168       0.0\n",
       "Name: Cost (millions 2013US$), dtype: float64"
      ]
     },
     "execution_count": 151,
     "metadata": {},
     "output_type": "execute_result"
    }
   ],
   "source": [
    "X = df['Cost (millions 2013US$)']\n",
    "X"
   ]
  },
  {
   "cell_type": "markdown",
   "id": "d85d6c53",
   "metadata": {},
   "source": [
    "## Question 2"
   ]
  },
  {
   "cell_type": "markdown",
   "id": "e7b85557",
   "metadata": {},
   "source": [
    "A/ Fonction quantile d'une loi normale"
   ]
  },
  {
   "cell_type": "code",
   "execution_count": 152,
   "id": "891a8113",
   "metadata": {},
   "outputs": [
    {
     "data": {
      "text/html": [
       "<img src=\"https://i.ibb.co/hLLFSm6/2a.png\" width=\"1000\"/>"
      ],
      "text/plain": [
       "<IPython.core.display.Image object>"
      ]
     },
     "execution_count": 152,
     "metadata": {},
     "output_type": "execute_result"
    }
   ],
   "source": [
    "Image(url=\"https://i.ibb.co/hLLFSm6/2a.png\", width=1000)"
   ]
  },
  {
   "cell_type": "markdown",
   "id": "29e910fc",
   "metadata": {},
   "source": [
    "B/ Tracé d'un diagramme Quantile-Quantile (QQ-plot) pour la loi normale"
   ]
  },
  {
   "cell_type": "code",
   "execution_count": 153,
   "id": "da54ddac",
   "metadata": {},
   "outputs": [
    {
     "data": {
      "image/png": "[encoded data removed]",
      "text/plain": [
       "<Figure size 360x360 with 1 Axes>"
      ]
     },
     "metadata": {
      "needs_background": "light"
     },
     "output_type": "display_data"
    }
   ],
   "source": [
    "plt.figure(figsize=(5,5))\n",
    "stats.probplot(X, fit=True, plot=plt)\n",
    "plt.title('QQplot Loi normale')\n",
    "plt.ylabel('Cost (millions 2013US$)')\n",
    "plt.xlabel('Distribution normale')\n",
    "plt.show()"
   ]
  },
  {
   "cell_type": "markdown",
   "id": "3a3c1178",
   "metadata": {},
   "source": [
    "### Quesiton 3"
   ]
  },
  {
   "cell_type": "markdown",
   "id": "9c091ee4",
   "metadata": {},
   "source": [
    "A/ Fonction quantile d'une loi exponentielle"
   ]
  },
  {
   "cell_type": "code",
   "execution_count": 154,
   "id": "00b36086",
   "metadata": {},
   "outputs": [
    {
     "data": {
      "text/html": [
       "<img src=\"https://i.ibb.co/LQM6SLZ/3a.png\" width=\"1000\"/>"
      ],
      "text/plain": [
       "<IPython.core.display.Image object>"
      ]
     },
     "execution_count": 154,
     "metadata": {},
     "output_type": "execute_result"
    }
   ],
   "source": [
    "Image(url=\"https://i.ibb.co/LQM6SLZ/3a.png\", width=1000)"
   ]
  },
  {
   "cell_type": "markdown",
   "id": "feddfb98",
   "metadata": {},
   "source": [
    "B/ QQPlot des données pour une loi exponentielle"
   ]
  },
  {
   "cell_type": "code",
   "execution_count": 155,
   "id": "df6e8f2c",
   "metadata": {},
   "outputs": [
    {
     "data": {
      "image/png": "[encoded data removed]",
      "text/plain": [
       "<Figure size 432x288 with 1 Axes>"
      ]
     },
     "metadata": {
      "needs_background": "light"
     },
     "output_type": "display_data"
    }
   ],
   "source": [
    "stats.probplot(X, dist='expon',fit=True,plot=plt)\n",
    "plt.title('QQplot: Loi exponentielle')\n",
    "plt.ylabel('Cost (millions 2013US$)')\n",
    "plt.xlabel('Distribution loi exponentielle ')\n",
    "plt.show()"
   ]
  },
  {
   "cell_type": "markdown",
   "id": "2d699001",
   "metadata": {},
   "source": [
    "### Question 4"
   ]
  },
  {
   "cell_type": "markdown",
   "id": "a22afb3b",
   "metadata": {},
   "source": [
    "Le QQPlot permet de voir graphiquement si deux jeux de données ont une distribution aléatoire commune (on compare ainsi un modèle 'classique' et un jeu de données étudié) : si la série statistique suit bien le modèle auquel elle est comparée, les quantiles observés devraient être égaux aux quantiles du modèle statistique, à une transformation affine près.\n",
    "\n",
    "Dans notre cas, on voit que le résultat obtenu est meilleur (les points sont plus proches de la droite affine) pour la loi exponentielle que pour la loi normale.\n",
    "Donc la loi exponentielle semble être la plus plausible."
   ]
  },
  {
   "cell_type": "markdown",
   "id": "4ade0191",
   "metadata": {},
   "source": [
    "## Exercice 2"
   ]
  },
  {
   "cell_type": "markdown",
   "id": "5812c354",
   "metadata": {},
   "source": [
    "1/ Estimateur du maximum de vraisemblance"
   ]
  },
  {
   "cell_type": "code",
   "execution_count": 156,
   "id": "401d246a",
   "metadata": {},
   "outputs": [
    {
     "data": {
      "text/html": [
       "<img src=\"https://i.ibb.co/qyyS4RJ/21.png\" width=\"1000\"/>"
      ],
      "text/plain": [
       "<IPython.core.display.Image object>"
      ]
     },
     "execution_count": 156,
     "metadata": {},
     "output_type": "execute_result"
    }
   ],
   "source": [
    "Image(url=\"https://i.ibb.co/qyyS4RJ/21.png\",width=1000)"
   ]
  },
  {
   "cell_type": "markdown",
   "id": "41f1e505",
   "metadata": {},
   "source": [
    "2/ Tracer : histogramme des données et densité de probabilité de la loi exponentielle de paramètre l'estimateur de vraisemblance précédemment trouvé"
   ]
  },
  {
   "cell_type": "code",
   "execution_count": 157,
   "id": "a237b322",
   "metadata": {},
   "outputs": [
    {
     "name": "stderr",
     "output_type": "stream",
     "text": [
      "/Users/lucashommet/opt/anaconda3/lib/python3.8/site-packages/seaborn/distributions.py:2557: FutureWarning: `distplot` is a deprecated function and will be removed in a future version. Please adapt your code to use either `displot` (a figure-level function with similar flexibility) or `histplot` (an axes-level function for histograms).\n",
      "  warnings.warn(msg, FutureWarning)\n"
     ]
    },
    {
     "data": {
      "image/png": "[encoded data removed]",
      "text/plain": [
       "<Figure size 432x288 with 1 Axes>"
      ]
     },
     "metadata": {
      "needs_background": "light"
     },
     "output_type": "display_data"
    }
   ],
   "source": [
    "#calcul de lambda et de la loi exponentielle\n",
    "l = 1/statistics.mean(X)\n",
    "\n",
    "x = np.linspace(0,X.max())\n",
    "Y = l*np.exp(-l*x)\n",
    "\n",
    "#Tracé\n",
    "sns.distplot(X,label =\"données\") # Tracé de l'histogramme\n",
    "plt.plot(x,Y,label=\"Loi exponentielle\") #Tracé de la loi exponentielle\n",
    "plt.xlabel('Cost (millions 2013US$)')\n",
    "plt.ylabel('Distribution')\n",
    "plt.title(\"Histogramme des données et loi exponentielle\")\n",
    "plt.show()"
   ]
  },
  {
   "cell_type": "markdown",
   "id": "db47f2b1",
   "metadata": {},
   "source": [
    "3/ Estimateur efficace"
   ]
  },
  {
   "cell_type": "code",
   "execution_count": 158,
   "id": "a336e071",
   "metadata": {},
   "outputs": [
    {
     "data": {
      "text/html": [
       "<img src=\"https://i.ibb.co/w0GCTwH/partA.png\" width=\"1000\"/>"
      ],
      "text/plain": [
       "<IPython.core.display.Image object>"
      ]
     },
     "execution_count": 158,
     "metadata": {},
     "output_type": "execute_result"
    }
   ],
   "source": [
    "Image(url='https://i.ibb.co/w0GCTwH/partA.png',width=1000)"
   ]
  },
  {
   "cell_type": "code",
   "execution_count": 159,
   "id": "f047a9ca",
   "metadata": {},
   "outputs": [
    {
     "data": {
      "text/html": [
       "<img src=\"https://i.ibb.co/ZKwXHcx/partB.png\" width=\"1000\"/>"
      ],
      "text/plain": [
       "<IPython.core.display.Image object>"
      ]
     },
     "execution_count": 159,
     "metadata": {},
     "output_type": "execute_result"
    }
   ],
   "source": [
    "Image(url=\"https://i.ibb.co/ZKwXHcx/partB.png\",width=1000)"
   ]
  },
  {
   "cell_type": "markdown",
   "id": "10f60246",
   "metadata": {},
   "source": [
    "4/ Calcul de T1"
   ]
  },
  {
   "cell_type": "code",
   "execution_count": 160,
   "id": "fd043621",
   "metadata": {},
   "outputs": [
    {
     "name": "stdout",
     "output_type": "stream",
     "text": [
      "726.3363636363637\n"
     ]
    }
   ],
   "source": [
    "t1 = statistics.mean(X)\n",
    "print(t1)"
   ]
  },
  {
   "cell_type": "markdown",
   "id": "bfbe503a",
   "metadata": {},
   "source": [
    "5/ Nouvel estimateur"
   ]
  },
  {
   "cell_type": "code",
   "execution_count": 161,
   "id": "1ab5b7eb",
   "metadata": {},
   "outputs": [
    {
     "data": {
      "text/html": [
       "<img src=\"https://i.ibb.co/6B1MWFn/r.png\" width=\"1000\"/>"
      ],
      "text/plain": [
       "<IPython.core.display.Image object>"
      ]
     },
     "execution_count": 161,
     "metadata": {},
     "output_type": "execute_result"
    }
   ],
   "source": [
    "Image(url=\"https://i.ibb.co/6B1MWFn/r.png\",width=1000)"
   ]
  },
  {
   "cell_type": "markdown",
   "id": "c8e33f17",
   "metadata": {},
   "source": [
    "6/"
   ]
  },
  {
   "cell_type": "markdown",
   "id": "e1f7a44d",
   "metadata": {},
   "source": [
    "\n",
    "La médiane vaut (après calcul) log(2)/λ\n",
    "On prend donc **η= ln(2)**, et l'estimateur T1, η est alors l’estimateur sans biais de la médiane"
   ]
  },
  {
   "cell_type": "code",
   "execution_count": 162,
   "id": "c543ca54",
   "metadata": {},
   "outputs": [
    {
     "name": "stdout",
     "output_type": "stream",
     "text": [
      "Médiane trouvée par l’estimateur :  503.4580025927086\n",
      "Médiane empirique:  89.9\n"
     ]
    }
   ],
   "source": [
    "T1=(np.log(2)*X.sum()/X.count())\n",
    "print(\"Médiane trouvée par l’estimateur : \", T1)\n",
    "print(\"Médiane empirique: \", X.median())"
   ]
  },
  {
   "cell_type": "markdown",
   "id": "709466fe",
   "metadata": {},
   "source": [
    "7/"
   ]
  },
  {
   "cell_type": "markdown",
   "id": "015cd60d",
   "metadata": {},
   "source": [
    "On prend à nouveau η= ln(2)"
   ]
  },
  {
   "cell_type": "markdown",
   "id": "54bfc933",
   "metadata": {},
   "source": [
    "<blockquote>\n",
    "    \n",
    "\\begin{align}\n",
    "R(\\lambda,T_1) & = \\frac{1}{n\\lambda^2}\n",
    "\\end{align}\n",
    "\n",
    "\\begin{align}\n",
    "R(\\lambda,T_{1,\\eta}) & = \\frac{ n(log(2) - 1)^2 + log(2)^2 }{n\\lambda^2}\n",
    "\\end{align}\n",
    "\n",
    "</blockquote>"
   ]
  },
  {
   "cell_type": "markdown",
   "id": "ff986d7a",
   "metadata": {},
   "source": [
    "<blockquote>\n",
    "\n",
    "On a vu que tant que log(2) > (n-1)/(n+1) alors T<sub>1, η</sub>  a un risque inférieur à T<sub>1</sub> \n",
    "</blockquote>"
   ]
  },
  {
   "cell_type": "markdown",
   "id": "ad36c15f",
   "metadata": {},
   "source": [
    "## Exercice 3"
   ]
  },
  {
   "cell_type": "markdown",
   "id": "d076a0f3",
   "metadata": {},
   "source": [
    "1/"
   ]
  },
  {
   "cell_type": "code",
   "execution_count": 163,
   "id": "12023b9c",
   "metadata": {},
   "outputs": [
    {
     "data": {
      "text/html": [
       "<img src=\"https://i.ibb.co/9ZpDrVg/1.png\" width=\"1000\"/>"
      ],
      "text/plain": [
       "<IPython.core.display.Image object>"
      ]
     },
     "execution_count": 163,
     "metadata": {},
     "output_type": "execute_result"
    }
   ],
   "source": [
    "Image(url='https://i.ibb.co/9ZpDrVg/1.png',width = 1000)"
   ]
  },
  {
   "cell_type": "markdown",
   "id": "d943f0c9",
   "metadata": {},
   "source": [
    "2/"
   ]
  },
  {
   "cell_type": "code",
   "execution_count": 172,
   "id": "6f86d92d",
   "metadata": {},
   "outputs": [
    {
     "data": {
      "text/html": [
       "<img src=\"https://i.ibb.co/PMFc7jJ/q22.png\" width=\"1000\"/>"
      ],
      "text/plain": [
       "<IPython.core.display.Image object>"
      ]
     },
     "execution_count": 172,
     "metadata": {},
     "output_type": "execute_result"
    }
   ],
   "source": [
    "Image(url='https://i.ibb.co/PMFc7jJ/q22.png',width = 1000)"
   ]
  },
  {
   "cell_type": "markdown",
   "id": "871fae2f",
   "metadata": {},
   "source": [
    "3/"
   ]
  },
  {
   "cell_type": "code",
   "execution_count": 165,
   "id": "f8bd5361",
   "metadata": {},
   "outputs": [
    {
     "name": "stdout",
     "output_type": "stream",
     "text": [
      "p-valeur =  0.013717486423264914\n"
     ]
    }
   ],
   "source": [
    "p_val = stats.gamma.cdf(x=X.sum(),a=X.size, scale=1000)\n",
    "print(\"p-valeur = \",p_val)"
   ]
  },
  {
   "cell_type": "markdown",
   "id": "bdcf63b0",
   "metadata": {},
   "source": [
    "<blockquote>Cette p-valeur est inférieure au α que nous nous sommes donnés. Donc nous pouvons rejeter H<sub>0</sub> : le coût moyen d’accident est inférieur à un milliard de dollars</blockquote>"
   ]
  },
  {
   "cell_type": "markdown",
   "id": "0a4b11a9",
   "metadata": {},
   "source": [
    "4/"
   ]
  },
  {
   "cell_type": "code",
   "execution_count": 166,
   "id": "9c2af88c",
   "metadata": {},
   "outputs": [
    {
     "data": {
      "image/png": "[encoded data removed]",
      "text/plain": [
       "<Figure size 432x288 with 1 Axes>"
      ]
     },
     "metadata": {
      "needs_background": "light"
     },
     "output_type": "display_data"
    },
    {
     "name": "stdout",
     "output_type": "stream",
     "text": [
      "Point critique :  1231.6379811669046\n"
     ]
    }
   ],
   "source": [
    "g=stats.gamma(a=X.size, scale=1000)\n",
    "plt.plot(np.arange(500,1500),g.pdf(x=np.arange(500*55,1500*55,55)))\n",
    "plt.axvline(g.ppf(1-0.05)/55,color='g',label=\"Région de rejet\")\n",
    "plt.legend()\n",
    "plt.show()\n",
    "print(\"Point critique : \",g.ppf(1-0.05)/55)"
   ]
  },
  {
   "cell_type": "markdown",
   "id": "f0234185",
   "metadata": {},
   "source": [
    "<blockquote>\n",
    "Précision : la région de rejet est à droite de la ligne verte.\n",
    "</blockquote>"
   ]
  },
  {
   "cell_type": "markdown",
   "id": "a82c0f16",
   "metadata": {},
   "source": [
    "5/"
   ]
  },
  {
   "cell_type": "code",
   "execution_count": 167,
   "id": "62d9a1f9",
   "metadata": {},
   "outputs": [
    {
     "data": {
      "image/png": "[encoded data removed]",
      "text/plain": [
       "<Figure size 432x288 with 1 Axes>"
      ]
     },
     "metadata": {
      "needs_background": "light"
     },
     "output_type": "display_data"
    },
    {
     "data": {
      "image/png": "[encoded data removed]",
      "text/plain": [
       "<Figure size 432x288 with 1 Axes>"
      ]
     },
     "metadata": {
      "needs_background": "light"
     },
     "output_type": "display_data"
    },
    {
     "data": {
      "image/png": "[encoded data removed]",
      "text/plain": [
       "<Figure size 432x288 with 1 Axes>"
      ]
     },
     "metadata": {
      "needs_background": "light"
     },
     "output_type": "display_data"
    },
    {
     "data": {
      "image/png": "[encoded data removed]",
      "text/plain": [
       "<Figure size 432x288 with 1 Axes>"
      ]
     },
     "metadata": {
      "needs_background": "light"
     },
     "output_type": "display_data"
    },
    {
     "data": {
      "image/png": "[encoded data removed]",
      "text/plain": [
       "<Figure size 432x288 with 1 Axes>"
      ]
     },
     "metadata": {
      "needs_background": "light"
     },
     "output_type": "display_data"
    }
   ],
   "source": [
    "N=[10, 50, 100, 500, 100000]\n",
    "for n in N:\n",
    "    gamma=stats.gamma(a=n, scale=1000)\n",
    "    pui=[]\n",
    "    for i in range(1,999):\n",
    "        a = stats.gamma.cdf(x=gamma.ppf(0.05),a=n, scale=i)\n",
    "        pui.append(a)\n",
    "    puissance=np.array(pui)\n",
    "    plt.title(\"Fonction puissance, n = \"+ str(n))\n",
    "    plt.xlabel(\"Valeur\")\n",
    "    plt.ylabel(\"Probabilité de rejet\")\n",
    "    plt.plot(np.arange(1,999),puissance)\n",
    "    plt.show()"
   ]
  },
  {
   "cell_type": "markdown",
   "id": "fd3bccde",
   "metadata": {},
   "source": [
    "<blockquote>On remarque que : plus l'échantillon est de taille importante, plus la puissance du test augmente. \n",
    "<br>Pour influer sur la puissance du test (ce qu'on ne fait pas directement dans l'approche de Neyman-Pearson, on peut donc penser à considérer un échantillon plus grand.</blockquote>"
   ]
  },
  {
   "cell_type": "markdown",
   "id": "5930e7af",
   "metadata": {},
   "source": [
    "6/"
   ]
  },
  {
   "cell_type": "markdown",
   "id": "6aef724b",
   "metadata": {},
   "source": [
    "<blockquote>\n",
    "D'après le théorème de la limite centrée, et comme les XI sont iid, on a que : <br>"
   ]
  },
  {
   "cell_type": "code",
   "execution_count": 173,
   "id": "e9149414",
   "metadata": {},
   "outputs": [
    {
     "data": {
      "text/html": [
       "<img src=\"https://i.ibb.co/0D9CfPZ/q66.png\" width=\"1000\"/>"
      ],
      "text/plain": [
       "<IPython.core.display.Image object>"
      ]
     },
     "execution_count": 173,
     "metadata": {},
     "output_type": "execute_result"
    }
   ],
   "source": [
    "Image(url='https://i.ibb.co/0D9CfPZ/q66.png', width = 1000)"
   ]
  },
  {
   "cell_type": "markdown",
   "id": "66eb55ce",
   "metadata": {},
   "source": [
    "<blockquote>\n",
    "On peut proposer un nouveau test qui utiliserait ce même principe du théorème de la limite centrée : utiliser l'approximation de la loi gamma par une loi gaussienne au lieu de raisonner sur des lois Gamma\n",
    "</blockquote>"
   ]
  },
  {
   "cell_type": "code",
   "execution_count": 169,
   "id": "c6e42459",
   "metadata": {},
   "outputs": [
    {
     "data": {
      "text/html": [
       "<img src=\"\" width=\"1000\"/>"
      ],
      "text/plain": [
       "<IPython.core.display.Image object>"
      ]
     },
     "execution_count": 169,
     "metadata": {},
     "output_type": "execute_result"
    }
   ],
   "source": [
    "Image(url='', width = 1000)"
   ]
  },
  {
   "cell_type": "code",
   "execution_count": 170,
   "id": "4b85f0a1",
   "metadata": {},
   "outputs": [
    {
     "data": {
      "image/png": "[encoded data removed]",
      "text/plain": [
       "<Figure size 432x288 with 1 Axes>"
      ]
     },
     "metadata": {
      "needs_background": "light"
     },
     "output_type": "display_data"
    }
   ],
   "source": [
    "n=stats.norm.pdf(x=np.arange(500,1500), loc=1000, scale=1/math.sqrt(55)*1000)\n",
    "plt.plot(np.arange(500,1500),n)\n",
    "plt.axvline(stats.norm.ppf(0.95,loc=1000,scale=1000/math.sqrt(55) ),color='g',label=\"La région de rejet\")\n",
    "plt.legend(loc=\"upper right\")\n",
    "plt.show()"
   ]
  },
  {
   "cell_type": "code",
   "execution_count": 174,
   "id": "e4b9e2f6",
   "metadata": {},
   "outputs": [
    {
     "name": "stdout",
     "output_type": "stream",
     "text": [
      "p-valeur =  0.021201463906399154\n"
     ]
    }
   ],
   "source": [
    "#On calcule la p valeur\n",
    "\n",
    "p_val = stats.norm.cdf(X.sum()/55 , loc=1000, scale=1000/math.sqrt(55))\n",
    "print(\"p-valeur = \",p_val)"
   ]
  },
  {
   "cell_type": "markdown",
   "id": "10b84552",
   "metadata": {},
   "source": [
    "Comme nous pouvons le voir ci-dessus, nous continuons à rejeter H0, nous pouvons donc continuer à dire que le coût moyen est inférieur à 1 milliard."
   ]
  }
 ],
 "metadata": {
  "kernelspec": {
   "display_name": "Python 3",
   "language": "python",
   "name": "python3"
  },
  "language_info": {
   "codemirror_mode": {
    "name": "ipython",
    "version": 3
   },
   "file_extension": ".py",
   "mimetype": "text/x-python",
   "name": "python",
   "nbconvert_exporter": "python",
   "pygments_lexer": "ipython3",
   "version": "3.8.8"
  }
 },
 "nbformat": 4,
 "nbformat_minor": 5
}

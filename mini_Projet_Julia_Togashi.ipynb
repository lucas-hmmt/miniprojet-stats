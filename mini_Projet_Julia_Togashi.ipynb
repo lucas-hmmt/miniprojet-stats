{
 "cells": [
  {
   "cell_type": "markdown",
   "metadata": {},
   "source": [
    "<h1>Mini-Projet: Júlia Togashi de Miranda</h1>"
   ]
  },
  {
   "cell_type": "code",
   "execution_count": 8,
   "metadata": {},
   "outputs": [],
   "source": [
    "import pandas as pd\n",
    "import numpy as np\n",
    "import datetime\n",
    "import math\n",
    "import scipy.stats as stats\n",
    "import matplotlib.pyplot as plt\n",
    "import seaborn as sns"
   ]
  },
  {
   "cell_type": "markdown",
   "metadata": {},
   "source": [
    "<h1><font color='#3781be'>Exercice 1 <i>(Exploration des données, recherche de leur loi):</i></font></h1>\n",
    "<blockquote><b>1.</b> Au-dessous le téléchargement des données, et le traitement pour retirerles valeurs Nulles, et après « Three Mile Island ». À la fin, nous avons n = 55 observationsdu coût, comme proposé.</blockquote>"
   ]
  },
  {
   "cell_type": "code",
   "execution_count": 9,
   "metadata": {},
   "outputs": [
    {
     "data": {
      "text/html": [
       "<div>\n",
       "<style scoped>\n",
       "    .dataframe tbody tr th:only-of-type {\n",
       "        vertical-align: middle;\n",
       "    }\n",
       "\n",
       "    .dataframe tbody tr th {\n",
       "        vertical-align: top;\n",
       "    }\n",
       "\n",
       "    .dataframe thead th {\n",
       "        text-align: right;\n",
       "    }\n",
       "</style>\n",
       "<table border=\"1\" class=\"dataframe\">\n",
       "  <thead>\n",
       "    <tr style=\"text-align: right;\">\n",
       "      <th></th>\n",
       "      <th>Date</th>\n",
       "      <th>Location</th>\n",
       "      <th>Cost (millions 2013US$)</th>\n",
       "      <th>INES</th>\n",
       "      <th>Smyth Magnitude</th>\n",
       "      <th>Region</th>\n",
       "      <th>Description</th>\n",
       "      <th>Fatalities</th>\n",
       "    </tr>\n",
       "  </thead>\n",
       "  <tbody>\n",
       "    <tr>\n",
       "      <th>0</th>\n",
       "      <td>4/26/1986</td>\n",
       "      <td>Kiev, Ukraine</td>\n",
       "      <td>259336.0</td>\n",
       "      <td>7.0</td>\n",
       "      <td>8.0</td>\n",
       "      <td>EE</td>\n",
       "      <td>Mishandled reactor safety test at Chernobyl nu...</td>\n",
       "      <td>4056</td>\n",
       "    </tr>\n",
       "    <tr>\n",
       "      <th>1</th>\n",
       "      <td>3/11/2011</td>\n",
       "      <td>Fukushima Prefecture, Japan</td>\n",
       "      <td>166089.0</td>\n",
       "      <td>7.0</td>\n",
       "      <td>7.5</td>\n",
       "      <td>A</td>\n",
       "      <td>An earthquake and tsunami caused emergency bac...</td>\n",
       "      <td>573</td>\n",
       "    </tr>\n",
       "    <tr>\n",
       "      <th>2</th>\n",
       "      <td>12/8/1995</td>\n",
       "      <td>Tsuruga, Japan</td>\n",
       "      <td>15500.0</td>\n",
       "      <td>NaN</td>\n",
       "      <td>NaN</td>\n",
       "      <td>A</td>\n",
       "      <td>Japan's only fast breeder reactor Monju suffer...</td>\n",
       "      <td>0</td>\n",
       "    </tr>\n",
       "    <tr>\n",
       "      <th>3</th>\n",
       "      <td>3/28/1979</td>\n",
       "      <td>Middletown, Pennsylvania, United States</td>\n",
       "      <td>10910.0</td>\n",
       "      <td>5.0</td>\n",
       "      <td>7.9</td>\n",
       "      <td>NaN</td>\n",
       "      <td>Equipment failure and operator error contribut...</td>\n",
       "      <td>0</td>\n",
       "    </tr>\n",
       "    <tr>\n",
       "      <th>4</th>\n",
       "      <td>9/11/1957</td>\n",
       "      <td>Rocky Flats, USA</td>\n",
       "      <td>8189.0</td>\n",
       "      <td>5.0</td>\n",
       "      <td>5.2</td>\n",
       "      <td>NaN</td>\n",
       "      <td>Fire starts and destroys plutonium processing ...</td>\n",
       "      <td>0</td>\n",
       "    </tr>\n",
       "  </tbody>\n",
       "</table>\n",
       "</div>"
      ],
      "text/plain": [
       "        Date                                 Location  \\\n",
       "0  4/26/1986                            Kiev, Ukraine   \n",
       "1  3/11/2011              Fukushima Prefecture, Japan   \n",
       "2  12/8/1995                           Tsuruga, Japan   \n",
       "3  3/28/1979  Middletown, Pennsylvania, United States   \n",
       "4  9/11/1957                         Rocky Flats, USA   \n",
       "\n",
       "   Cost (millions 2013US$)  INES  Smyth Magnitude Region  \\\n",
       "0                 259336.0   7.0              8.0     EE   \n",
       "1                 166089.0   7.0              7.5      A   \n",
       "2                  15500.0   NaN              NaN      A   \n",
       "3                  10910.0   5.0              7.9    NaN   \n",
       "4                   8189.0   5.0              5.2    NaN   \n",
       "\n",
       "                                         Description  Fatalities  \n",
       "0  Mishandled reactor safety test at Chernobyl nu...        4056  \n",
       "1  An earthquake and tsunami caused emergency bac...         573  \n",
       "2  Japan's only fast breeder reactor Monju suffer...           0  \n",
       "3  Equipment failure and operator error contribut...           0  \n",
       "4  Fire starts and destroys plutonium processing ...           0  "
      ]
     },
     "execution_count": 9,
     "metadata": {},
     "output_type": "execute_result"
    }
   ],
   "source": [
    "df = pd.read_csv(\"NuclearPowerAccidents2016.csv\")\n",
    "df.head()"
   ]
  },
  {
   "cell_type": "code",
   "execution_count": 10,
   "metadata": {},
   "outputs": [
    {
     "name": "stdout",
     "output_type": "stream",
     "text": [
      "55\n"
     ]
    },
    {
     "data": {
      "text/plain": [
       "4    8189.0\n",
       "5    4400.0\n",
       "6    3500.0\n",
       "7    2900.0\n",
       "8    2500.0\n",
       "Name: Cost (millions 2013US$), dtype: float64"
      ]
     },
     "execution_count": 10,
     "metadata": {},
     "output_type": "execute_result"
    }
   ],
   "source": [
    "df[\"Date\"] = pd.to_datetime(df[\"Date\"], format='%m/%d/%Y')\n",
    "df = df[df[\"Date\"]<datetime.datetime(1979, 3, 28)]\n",
    "df = df.loc[df['Cost (millions 2013US$)'].notnull()]\n",
    "df = df['Cost (millions 2013US$)']\n",
    "print(df.size) \n",
    "df.head()"
   ]
  },
  {
   "cell_type": "markdown",
   "metadata": {},
   "source": [
    "<blockquote><b>2. </b>La fonction quantile d'une distribution est l'inverse de la fonction de distribution cumulative.\n",
    "\n",
    "La CDF de la loi normale est égale à : \n",
    "\n",
    "\\begin{align}\n",
    "y &  = {\\frac{1}{2}}{(1+ erf{\\frac{(x-\\mu)}{\\sigma\\sqrt{2}}})}\n",
    "\\end{align}\n",
    "\n",
    "Donc nous avons que l’inverse de la CDF, qui est égale à la fonction quartile, est :\n",
    "\n",
    "\\begin{align}\n",
    "y &  = \\mu+ \\sigma\\sqrt{2} \\ erf^{-1}(2p-1)\n",
    "\\end{align}\n",
    "\n",
    "Pour fini, comment nous voulions démontrer :\n",
    " \n",
    "\\begin{align}\n",
    "F^{-1}(p;0,1) &  = \\sqrt{2} \\ erf^{-1}(2p-1)\n",
    "\\end{align}\n",
    "\n",
    "\\begin{align}\n",
    "F^{-1}(p;\\mu,\\sigma^2) &  =\\mu+\\sqrt{\\sigma^2}\\; {F^{-1}(p;0,1)},\\quad \\forall p \\in\\;)0,1(\n",
    "\\end{align}\n",
    "\n",
    "Ci-dessous, nous avons le résultat du graphique QQ pour la loi normale:</blockquote>"
   ]
  },
  {
   "cell_type": "code",
   "execution_count": 11,
   "metadata": {},
   "outputs": [
    {
     "data": {
      "image/png": "[encoded data removed]",
      "text/plain": [
       "<Figure size 432x288 with 1 Axes>"
      ]
     },
     "metadata": {
      "needs_background": "light"
     },
     "output_type": "display_data"
    }
   ],
   "source": [
    "#QQPLOT-Normale\n",
    "norm_params = stats.norm.fit(df)\n",
    "stats.probplot(df, dist='norm', sparams=norm_params,plot=plt)\n",
    "plt.title('QQplot: normal and Cost')\n",
    "plt.ylabel('Cost (millions 2013US$)')\n",
    "plt.xlabel('Normal distribution')\n",
    "plt.show()"
   ]
  },
  {
   "cell_type": "markdown",
   "metadata": {},
   "source": [
    "<blockquote><b>3.</b> La fonction quantile d'une distribution est l'inverse de la fonction de distribution cumulative.\n",
    "\n",
    "La CDF de la loi exponentielle est égale à : \n",
    "\n",
    "\\begin{align}\n",
    "y &  = 1 -e^{-\\lambda x}\n",
    "\\end{align}\n",
    "\n",
    "Donc nous avons que l’inverse de la CDF, qui est égale à la fonction quartile, est :\n",
    "\n",
    "\\begin{align}\n",
    "y &  = \\frac{-\\ln{(1-x)}}{\\lambda}\n",
    "\\end{align}\n",
    "\n",
    "Pour fini, comment nous voulions démontrer :\n",
    "\n",
    "\\begin{align}\n",
    "F^{-1}(p;1) &  = {-\\ln{(1-x)}}\n",
    "\\end{align}\n",
    "\n",
    "\\begin{align}\n",
    "F^{-1}(p;\\lambda) &  = \\frac{F^{-1}(p;1)}{\\lambda}, \\quad\\forall p \\in(0,1)\n",
    "\\end{align}\n",
    "    \n",
    "Ci-dessous, nous avons le résultat du graphique QQ pour la loi exponentielle: </blockquote>"
   ]
  },
  {
   "cell_type": "code",
   "execution_count": 12,
   "metadata": {},
   "outputs": [
    {
     "data": {
      "image/png": "[encoded data removed]",
      "text/plain": [
       "<Figure size 432x288 with 1 Axes>"
      ]
     },
     "metadata": {
      "needs_background": "light"
     },
     "output_type": "display_data"
    }
   ],
   "source": [
    "#QQPLOT-Exponentielle\n",
    "expon_params = stats.expon.fit(df,floc=0)\n",
    "stats.probplot(df, dist='expon',sparams=expon_params,plot=plt)\n",
    "plt.title('QQplot: exponencial and Cost')\n",
    "plt.ylabel('Cost (millions 2013US$)')\n",
    "plt.xlabel('Exponencial distribution ')\n",
    "plt.show()"
   ]
  },
  {
   "cell_type": "markdown",
   "metadata": {},
   "source": [
    "<blockquote><b>4. </b>Le QQplot est une ressource graphique pour déterminer si deux ensembles de données ont une distribution commune (pour comparer la distribution de nos données et une distribution de la littérature), dans laquelle les points représentent les fractions de points de la distribution plus petites qu'une valeur donnée, pour les deux distributions. Les deux distributions sont considérées comme équivalentes si le QQplot résultant ressemble à une ligne à 45<sup>o</sup> par rapport aux axes.</blockquote>\n",
    "<blockquote>Donc se nous faisons la comparaison, nous pouvons conclure que, étant donné le QQplot, la loi exponentielle c'est plus plausible pour nos données. Le résultat du QQplot se ressemble plus à une ligne (45 degrés) pour la loi exponentielle que pour la loi normale. Ça veut dire que les quantiles sont plus équivalant pour la loi exponentielle.</blockquote>"
   ]
  },
  {
   "cell_type": "markdown",
   "metadata": {},
   "source": [
    "<h1><font color='#3781be'>Exercice 2 <i>(Estimation ponctuelle des paramètres d’une loi exponentielle):</i></font></h1>"
   ]
  },
  {
   "cell_type": "markdown",
   "metadata": {},
   "source": [
    "<blockquote><b>1. </b>La densité de probabilité de l’loi exponentielle est égale à :\n",
    "    \n",
    "\\begin{align}\n",
    "y &  = \\lambda e^{-\\lambda x}\n",
    "\\end{align} \n",
    "\n",
    "Donc, la vraisemblance du modèle statistique s’écrit comme :\n",
    "\n",
    "\\begin{align}\n",
    "p_\\lambda(x;\\lambda) &  = \\lambda^n e^{-\\lambda \\sum_{i=1}^n x_i}\n",
    "\\end{align} \n",
    "\n",
    "Suivant, le calculde l'estimateur du maximum de vraisemblance:\n",
    "\n",
    "\\begin{align}\n",
    "\\ln{p_\\lambda(x;\\lambda)} &  = \\ln{(\\lambda^n e^{-\\lambda \\sum_{i=1}^n x_i})}\n",
    "\\end{align} \n",
    "\n",
    "\\begin{align}\n",
    "\\ln{p_\\lambda(x;\\lambda)} &  = \\ln{(\\lambda^n)}+ \\ln{(e^{-\\lambda \\sum_{i=1}^n x_i})}\n",
    "\\end{align} \n",
    "\n",
    "\\begin{align}\n",
    "\\ln{p_\\lambda(x;\\lambda)} &  = n\\ln{(\\lambda)} -\\lambda \\sum_{i=1}^n x_i\n",
    "\\end{align}\n",
    "\n",
    "\\begin{align}\n",
    "\\frac{\\partial\\ln{p_\\lambda(x;\\lambda)}}{\\partial \\lambda}  &  = n\\frac{1}{\\lambda} - \\sum_{i=1}^n x_i\n",
    "\\end{align}\n",
    "\n",
    "\\begin{align}\n",
    "n\\frac{1}{\\lambda} - \\sum_{i=1}^n x_i  &  = 0\n",
    "\\end{align}\n",
    "\n",
    "\\begin{align}\n",
    "\\hat{\\lambda_n} &  = \\frac{n}{\\sum_{i=1}^n x_i}\n",
    "\\end{align}\n",
    "\n",
    "Donc l’estimateur pour lambda c’est égal à l’inverse de la moyenne.\n",
    "</blockquote>"
   ]
  },
  {
   "cell_type": "code",
   "execution_count": 13,
   "metadata": {},
   "outputs": [
    {
     "name": "stdout",
     "output_type": "stream",
     "text": [
      "0.0013767725947156965\n"
     ]
    }
   ],
   "source": [
    "MLE_lambda=(df.count()/df.sum())\n",
    "print(MLE_lambda)"
   ]
  },
  {
   "cell_type": "markdown",
   "metadata": {},
   "source": [
    "<blockquote><b>2. </b>Vous trouverez ci-dessous le graphique de la loi exponentielle avec le lambda trouvé, ainsi que l'histogramme et la distribution des données.</blockquote>"
   ]
  },
  {
   "cell_type": "code",
   "execution_count": 14,
   "metadata": {},
   "outputs": [
    {
     "name": "stderr",
     "output_type": "stream",
     "text": [
      "/Users/lucashommet/opt/anaconda3/lib/python3.8/site-packages/seaborn/distributions.py:2557: FutureWarning: `distplot` is a deprecated function and will be removed in a future version. Please adapt your code to use either `displot` (a figure-level function with similar flexibility) or `histplot` (an axes-level function for histograms).\n",
      "  warnings.warn(msg, FutureWarning)\n"
     ]
    },
    {
     "data": {
      "image/png": "[encoded data removed]",
      "text/plain": [
       "<Figure size 432x288 with 1 Axes>"
      ]
     },
     "metadata": {
      "needs_background": "light"
     },
     "output_type": "display_data"
    }
   ],
   "source": [
    "intervalo = np.linspace(df.min(),df.max())\n",
    "#Exponentielle\n",
    "exponencial= MLE_lambda* np.exp(-(MLE_lambda*intervalo))\n",
    "plt.plot(intervalo,exponencial, label =\"loi exponentielle\")\n",
    "\n",
    "#empiric\n",
    "sns.distplot(df,rug=False,kde=True,label =\"données\")\n",
    "\n",
    "plt.title('Cost (millions 2013US$) distribution')\n",
    "plt.legend()\n",
    "plt.xlabel('Cost')\n",
    "plt.ylabel('distribution')\n",
    "plt.show()"
   ]
  },
  {
   "cell_type": "markdown",
   "metadata": {},
   "source": [
    "<blockquote><b>3. </b>Nous avons qu’un estimateur T<sub>1</sub>(X) non-biaisé d’une quantité g(θ) ∈ R est appelé efficace lorsqu’il atteint la borne de Cramér-Rao, qui est défini ci-dessous :\n",
    "\n",
    "\\begin{align}\n",
    "Var_\\theta{S(X)} \\ge \\frac{g'(\\theta)^2}{I(\\theta)}\n",
    "\\end{align} \n",
    "\n",
    "où I(θ) est l’information de Fisher relative à l’observation X, lorsque X ∼ Pθ. \n",
    "\n",
    "Nous montrons que la statistique T<sub>1</sub>(x) est non-biaisé:\n",
    "\n",
    "\\begin{align}\n",
    "E(T_1(X)) & = \\frac{E_\\lambda(\\sum_{i=1}^n (Xi))}{n}\\\\\n",
    "& = \\frac{\\sum_{i=1}^n E(Xi)}{n}\\\\\n",
    "& = \\frac{1}{\\lambda}\n",
    "\\end{align} \n",
    "\n",
    "Le biais de T<sub>1</sub> en tant qu’estimateur de λ, est donc: bias(T,λ)=0\n",
    "\n",
    "\n",
    "Donc nous avons que :\n",
    "\n",
    "\\begin{align}\n",
    "g_1(\\lambda) & = \\frac{1}{\\lambda}\n",
    "\\end{align} \n",
    "\n",
    "\\begin{align}\n",
    "g_1'(\\lambda) & = -\\frac{1}{\\lambda^2}\n",
    "\\end{align}\n",
    "\n",
    "\\begin{align}\n",
    "g_1'(\\lambda)^2 & = \\frac{1}{\\lambda^4}\n",
    "\\end{align} \n",
    "\n",
    "Pour la variance de la statistique T<sub>1</sub>(λ) :\n",
    "\n",
    "\\begin{align}\n",
    "Var_\\lambda (T_1)  & = Var(\\frac{\\sum_{i=1}^n (Xi)}{n}) \\\\\n",
    "& = \\frac{\\sum_{i=1}^n Var(Xi)}{n^2}  \\quad (independence)\\\\\n",
    "& =\\frac{n}{n^2} Var(X) \\quad (loi \\; exponentielle)\\\\\n",
    "& =\\frac{1}{n\\lambda^2} \n",
    "\\end{align} \n",
    "\n",
    "Et pour l’information de Fisher:\n",
    "\n",
    "\\begin{align}\n",
    "p_\\lambda(x;\\lambda) &  = \\lambda^n e^{-\\lambda \\sum_{i=1}^n x_i}\n",
    "\\end{align} \n",
    "\n",
    "\\begin{align}\n",
    "\\ln{p_\\lambda(x;\\lambda)} &  = \\ln{(\\lambda^n e^{-\\lambda \\sum_{i=1}^n x_i})}\n",
    "\\end{align}\n",
    "\n",
    "\\begin{align}\n",
    "\\frac{\\partial\\ln{p_\\lambda(x;\\lambda)}}{\\partial \\lambda}  &  = n\\frac{1}{\\lambda} - \\sum_{i=1}^n x_i\n",
    "\\end{align}\n",
    "\n",
    "\\begin{align}\n",
    "I_1 (\\lambda)  &  = E_\\lambda ((\\frac{\\partial\\ln{p_\\lambda(x;\\lambda)}}{\\partial \\lambda}^2))\\\\\n",
    "&  = E_\\lambda((\\frac{1}{\\lambda} -x)^2)\\\\\n",
    "&  = \\frac{1}{\\lambda^2}\n",
    "\\end{align}\n",
    "\n",
    "Enfin:\n",
    "\n",
    "\\begin{align}\n",
    "I(\\lambda) &  = n I_1(\\lambda)\n",
    "\\end{align}\n",
    "\n",
    "\\begin{align}\n",
    "I(\\lambda) &  = \\frac{n}{\\lambda^2}\n",
    "\\end{align}\n",
    "\n",
    "Nous montrons ci-dessous que le statistique T<sub>1</sub>(λ) est un estimateur efficace pour g(λ) :\n",
    "\n",
    "\\begin{align}\n",
    "\\frac{1}{n\\lambda^2} \\ge  \\frac{\\frac{1}{\\lambda^4}}{\\frac{n}{\\lambda^2}}\n",
    "\\end{align}\n",
    "\n",
    "\\begin{align}\n",
    "\\frac{1}{n\\lambda^2} & = \\frac{1}{n\\lambda^2} \n",
    "\\end{align}\n",
    "\n",
    "</blockquote>"
   ]
  },
  {
   "cell_type": "markdown",
   "metadata": {},
   "source": [
    "<blockquote><b>4. </b>Calcul du g<sub>1</sub> en utilisant T<sub>1</sub> pour l’échantillon donné.</blockquote>"
   ]
  },
  {
   "cell_type": "code",
   "execution_count": 15,
   "metadata": {},
   "outputs": [
    {
     "name": "stdout",
     "output_type": "stream",
     "text": [
      "726.3363636363637\n"
     ]
    }
   ],
   "source": [
    "T1=(df.sum()/df.count())\n",
    "print(T1)"
   ]
  },
  {
   "cell_type": "markdown",
   "metadata": {},
   "source": [
    "<blockquote><b>5. </b>Nous proposons un nouvel estimateur T<sub>1,η</sub>(X) = ηT<sub>1</sub>(X), soit η > 0.\n",
    "\n",
    "Nous cherchons des valeurs de η pour le risque quadratique, on a ∀λ > 0 : R (λ, T<sub>1,η</sub>) < R (λ, T<sub>1</sub>).\n",
    "\n",
    "Il est connu que:\n",
    "\n",
    "\\begin{align}\n",
    "R(\\theta,\\hat{g}) & = EMQ(\\theta,\\hat{g})\n",
    "\\end{align}\n",
    "\n",
    "\\begin{align}\n",
    "& = (b(\\theta,\\hat{g}))^2\\; (bias) \\quad +Var_\\theta (\\hat({g}(X)) \\;(variance)\n",
    "\\end{align}\n",
    "\n",
    "\n",
    "Comme nous l'avons déjà démontré à la question 2.3, l'estimateur T<sub>1</sub> est non-biaisé, alors:\n",
    "\n",
    "\\begin{align}\n",
    "R(\\lambda,T_1) & = \\frac{1}{n\\lambda^2}\n",
    "\\end{align}\n",
    "\n",
    "Donc, Pour T<sub>1,η</sub>(X):\n",
    "\n",
    "\\begin{align}\n",
    "E(T_{1,\\eta}) & = E(\\frac{\\eta \\sum_{i=1}^n (Xi)}{n})\\\\\n",
    "& = \\frac{\\eta \\sum_{i=1}^n E(Xi)}{n}\\\\\n",
    "& = \\frac{\\eta}{\\lambda}\n",
    "\\end{align}\n",
    "\n",
    "Donc T<sub>1,η</sub>(X) est biaisé: \n",
    "\\begin{align}\n",
    "bias & = \\frac{\\eta}{\\lambda} - \\frac{1}{\\lambda} \\\\\n",
    "& = \\frac{\\eta -1}{\\lambda}\n",
    "\\end{align}\n",
    "\n",
    "\n",
    "Maintenant pour la variance:\n",
    "\n",
    "\\begin{align}\n",
    "Var(T_{1,\\eta}) & = Var(\\frac{\\eta \\sum_{i=1}^n (Xi)}{n})\\\\\n",
    "& = \\frac{\\eta^2\\sum_{i=1}^n Var(Xi)}{n^2}\\\\\n",
    "& = \\frac{\\eta^2}{n \\lambda^2}\n",
    "\\end{align}\n",
    "\n",
    "Alors on conclut le risque quadratique:\n",
    "\n",
    "\\begin{align}\n",
    "R(\\lambda,T_{1,\\eta}) < R(\\lambda,T_{1})\n",
    "\\end{align}\n",
    "\n",
    "\\begin{align}\n",
    "\\frac{{(\\eta - 1)}^2}{\\lambda^2} + \\frac{\\eta^2}{n \\lambda^2} < \\frac{1}{n \\lambda^2}\n",
    "\\end{align}\n",
    "\n",
    "\\begin{align}\n",
    "\\frac{{(\\eta - 1)}^2}{\\lambda^2} + \\frac{\\eta^2}{n \\lambda^2} - \\frac{1}{n \\lambda^2} < 0\n",
    "\\end{align}\n",
    "\n",
    "\\begin{align}\n",
    "n > 0 ; \\lambda \\ne 0\n",
    "\\end{align}\n",
    "\n",
    "\\begin{align}\n",
    "(n+1)\\eta^2 -2n\\eta+ (n-1) < 0\n",
    "\\end{align}\n",
    "\n",
    "\\begin{align}\n",
    "\\frac{2n \\pm \\sqrt{4n^2 -4(n+1)(n-1)}}{2n + 2}\n",
    "\\end{align}\n",
    "\n",
    "\\begin{align}\n",
    "\\frac{2n \\pm 2}{2n+2}\n",
    "\\end{align}\n",
    "\n",
    "\\begin{align}\n",
    "\\eta_1 = \\frac{n-1}{n+1}; \\quad \\eta_2 = 1\n",
    "\\end{align}\n",
    "\n",
    "Enfin, nous concluons que:\n",
    "\n",
    "\\begin{align}\n",
    "\\frac{n-1}{n+1} < \\eta  < 1\n",
    "\\end{align}\n",
    "\n",
    "<br>\n",
    "\n",
    "Comme nous voulions le démontrer, nous avons un intervalle de η  pour lequel le risque quadratique de T<sub>1, η</sub> est inférieur à celui de T<sub>1</sub>. Cela n'est pas en contradiction avec la question précédente, car cela démontre que T<sub>1</sub> est un estimateur efficace de g(λ) et cela reste vrai. Par conséquent, nous avons trouvé un autre estimateur, qui dans cet intervalle est également efficace et comporte moins de risque quadratique.\n",
    "\n",
    "</blockquote>"
   ]
  },
  {
   "cell_type": "markdown",
   "metadata": {},
   "source": [
    "<blockquote><b>6. </b>Nous avons que η= ln(2), pour l’estimateur e T<sub>1, η</sub>  est l’estimateur sans biais de la médiane \n",
    "et la comparaison ci-dessous:\n",
    "</blockquote>"
   ]
  },
  {
   "cell_type": "code",
   "execution_count": 16,
   "metadata": {},
   "outputs": [
    {
     "name": "stdout",
     "output_type": "stream",
     "text": [
      "Médiane trouvée par l’estimateur pour l’échantillon donné:  503.4580025927086\n",
      "Médiane empirique:  89.9\n"
     ]
    }
   ],
   "source": [
    "T1_n=(np.log(2)*df.sum()/df.count())\n",
    "print(\"Médiane trouvée par l’estimateur pour l’échantillon donné: \", T1_n)\n",
    "print(\"Médiane empirique: \", df.median())"
   ]
  },
  {
   "cell_type": "markdown",
   "metadata": {},
   "source": [
    "<blockquote><b>7. </b>Ci-dessous, la comparaison entre les risques quadratiques des estimateurs T<sub>1</sub> et e T<sub>1, η</sub>  , avec η  égale a ln(2) comme estimateurs pour g<sub>1</sub>(λ), en fonction de la taille d’échantillon n.\n",
    "    \n",
    "\\begin{align}\n",
    "R(\\lambda,T_1) & = \\frac{1}{n\\lambda^2}\n",
    "\\end{align}\n",
    "\n",
    "\\begin{align}\n",
    "R(\\lambda,T_{1,\\eta}) & = \\frac{0.0941587n + 0.4804530}{n\\lambda^2}\n",
    "\\end{align}\n",
    "\n",
    "</blockquote>"
   ]
  },
  {
   "cell_type": "markdown",
   "metadata": {},
   "source": [
    "<h1><font color='#3781be'>Exercice 3 <i>(Test sur le paramètre d’une loi):</i></font></h1>"
   ]
  },
  {
   "cell_type": "markdown",
   "metadata": {},
   "source": [
    "<blockquote><b>1. </b>Nous souhaitons affirmer avec un faible risque d’erreur que le coût moyen d’un accident est inférieur à un milliard de dollars. Donc nous proposons les hypothèses :  \n",
    "\n",
    "* L’hypothèse null: H<sub>0</sub>:  $$\\frac{1}{\\lambda} \\ge 1000$$\n",
    "<br>\n",
    "* L’hypothèse alternative: H<sub>1</sub>: $$\\frac{1}{\\lambda} < 1000$$\n",
    "</blockquote>"
   ]
  },
  {
   "cell_type": "markdown",
   "metadata": {},
   "source": [
    "<blockquote><b>2. </b>Le principe de Neyman-Pearson nous dites que le Test du rapport de vraisemblance (RV) est le plus puissant quel que soit le choix de α ∈ (0 ; 1).\n",
    "\n",
    "Nous souhaitons affirmer avec un faible risque d’erreur que le coût moyen d’un accident est inférieur à un milliard de dollars.\n",
    "\n",
    "\\begin{align}\n",
    "L(\\mu; x_1, x_2, ..., x_n) & = \\prod_{i=1}^{n} f(x_i; \\mu,\\sigma)\n",
    "\\end{align}\n",
    "\n",
    "\\begin{align}\n",
    "f(x_i; \\mu,\\sigma) & = \\prod_{i=1}^{n}\\lambda e^{-\\lambda x}\\\\\n",
    "& = \\lambda^n \\; e^{-\\lambda\\sum_{i=1}^{n}x_i}\n",
    "\\end{align}\n",
    "\n",
    "\\begin{align}\n",
    "\\frac{L(\\mu; x_1, x_2, ..., x_n)}{L(\\mu'; x_1, x_2, ..., x_n)} & = (\\frac{\\lambda}{\\lambda'})^n e^{-(\\lambda-\\lambda')\\sum_{i=1}^{n}x_i}\n",
    "\\end{align}\n",
    "\n",
    "Donc nous avons pour le principe de Neyman-Pearson, le Test du rapport de vraisemblance plus puissant rejet H<sub>0</sub> si:\n",
    "\n",
    "\\begin{align}\n",
    "\\frac{L(\\mu; x_1, x_2, ..., x_n)}{L(\\mu'; x_1, x_2, ..., x_n)} < k\n",
    "\\end{align}\n",
    "\n",
    "\\begin{align}\n",
    "\\sum_{i=1}^{n}x_i>\\frac{1}{\\lambda-\\lambda'}log{(k(\\frac{\\lambda}{\\lambda'})^n)}=c\n",
    "\\end{align}\n",
    "\n",
    "La constant c est obtenu en faisant la valeur α, i.e.  \n",
    "\n",
    "\\begin{align}\n",
    "\\alpha = P(\\sum_{i=1}^{n}X_i> c|\\lambda=\\lambda)\n",
    "\\end{align}et où :\n",
    "\n",
    "\\begin{align}\n",
    "\\sum_{i=1}^{n}X_i\\sim Gama(n,\\lambda)\n",
    "\\end{align}\n",
    "\n",
    "</blockquote>"
   ]
  },
  {
   "cell_type": "markdown",
   "metadata": {},
   "source": [
    "<blockquote><b>3. </b> Le p-valeur est égale à 0.0137 (p-valeur < α). Donc nous pouvons rejeter la hippothèses null (H<sub>0</sub>) : \n",
    "\n",
    "$$\\frac{1}{\\lambda} \\ge 1000$$\n",
    "\n",
    "Ainsi, nous pouvons dire que : « le coût moyen d’accident est inférieur à un milliard de dollars » </blockquote>"
   ]
  },
  {
   "cell_type": "code",
   "execution_count": 17,
   "metadata": {},
   "outputs": [
    {
     "name": "stdout",
     "output_type": "stream",
     "text": [
      "p-value: 0.013717486423264914\n"
     ]
    }
   ],
   "source": [
    "p_value = stats.gamma.cdf(x=df.sum(),a=df.size, scale=1000)\n",
    "print(\"p-value:\",p_value)"
   ]
  },
  {
   "cell_type": "markdown",
   "metadata": {},
   "source": [
    "<blockquote><b>4. </b>Ci-dessous, la densité de probabilité de T<sub>1</sub> (n = 55) et la région du rejet au niveau α = 0.05 :</blockquote>"
   ]
  },
  {
   "cell_type": "code",
   "execution_count": 18,
   "metadata": {},
   "outputs": [
    {
     "data": {
      "image/png": "[encoded data removed]",
      "text/plain": [
       "<Figure size 432x288 with 1 Axes>"
      ]
     },
     "metadata": {
      "needs_background": "light"
     },
     "output_type": "display_data"
    },
    {
     "name": "stdout",
     "output_type": "stream",
     "text": [
      "Le point critique est égal à:  789.0147974522821\n"
     ]
    }
   ],
   "source": [
    "g=stats.gamma(a=df.size, scale=1000)\n",
    "plt.plot(np.arange(500,1500),g.pdf(x=np.arange(500*55,1500*55,55)))\n",
    "plt.axvline(g.ppf(0.05)/55,color='r',label=\"La région de rejet\")\n",
    "plt.axvline(df.mean(),color='g',label=\"moyenne des données\")\n",
    "plt.legend(loc=\"upper right\")\n",
    "plt.show()\n",
    "print(\"Le point critique est égal à: \",g.ppf(0.05)/55)"
   ]
  },
  {
   "cell_type": "markdown",
   "metadata": {},
   "source": [
    "<blockquote><b>5. </b> La taille de l'échantillon détermine la quantité d'erreur d'échantillonnage inhérente au résultat d'un test, donc c'est plus difficile de détecter des effets dans des échantillons plus petits. Ainsi, augmenter la taille de l'échantillon est souvent le moyen le plus simple d'augmenter la puissance d'un test.\n",
    "\n",
    "Ci-dessous, un graphique la fonction puissance pour chaque valeur de n.</blockquote> "
   ]
  },
  {
   "cell_type": "code",
   "execution_count": 19,
   "metadata": {},
   "outputs": [
    {
     "data": {
      "image/png": "[encoded data removed]",
      "text/plain": [
       "<Figure size 432x288 with 1 Axes>"
      ]
     },
     "metadata": {
      "needs_background": "light"
     },
     "output_type": "display_data"
    },
    {
     "data": {
      "image/png": "[encoded data removed]",
      "text/plain": [
       "<Figure size 432x288 with 1 Axes>"
      ]
     },
     "metadata": {
      "needs_background": "light"
     },
     "output_type": "display_data"
    },
    {
     "data": {
      "image/png": "[encoded data removed]",
      "text/plain": [
       "<Figure size 432x288 with 1 Axes>"
      ]
     },
     "metadata": {
      "needs_background": "light"
     },
     "output_type": "display_data"
    },
    {
     "data": {
      "image/png": "[encoded data removed]",
      "text/plain": [
       "<Figure size 432x288 with 1 Axes>"
      ]
     },
     "metadata": {
      "needs_background": "light"
     },
     "output_type": "display_data"
    },
    {
     "data": {
      "image/png": "[encoded data removed]",
      "text/plain": [
       "<Figure size 432x288 with 1 Axes>"
      ]
     },
     "metadata": {
      "needs_background": "light"
     },
     "output_type": "display_data"
    }
   ],
   "source": [
    "N=[10, 50, 100, 500, 100000]\n",
    "for n in N:\n",
    "    g=stats.gamma(a=n, scale=1000)\n",
    "    puissance=[]\n",
    "    for i in range(1,999):\n",
    "        b = stats.gamma.cdf(x=g.ppf(0.05),a=n, scale=i)\n",
    "        puissance.append(b)\n",
    "    puissance=np.array(puissance)\n",
    "    plt.title(\"Fonction puissance por n égale à \"+ str(n))\n",
    "    plt.xlabel(\"Vraie valeur du paramètre\")\n",
    "    plt.ylabel(\"Probabilité de rejet\")\n",
    "    plt.plot(np.arange(1,999),puissance)\n",
    "    plt.show()"
   ]
  },
  {
   "cell_type": "markdown",
   "metadata": {},
   "source": [
    "<blockquote><b>6. </b> Le théorème de la limite centrale dit que lorsque la taille de l'échantillon augmente, la distribution de l'échantillon de sa moyenne se rapproche de plus en plus d'une distribution normale.\n",
    "\n",
    "\n",
    "Ensuite, nous pouvons reprendre le test en utilisant l'approximation de la loi gamma comme une loi gaussienne. Comme nous pouvons le voir ci-dessous, bien que le point critique soit un peu différent, nous continuons à rejeter H<sub>0</sub>, nous pouvons donc continuer à dire que le coût moyen est inférieur à 1 milliard.\n",
    "</blockquote>"
   ]
  },
  {
   "cell_type": "code",
   "execution_count": 20,
   "metadata": {},
   "outputs": [
    {
     "data": {
      "image/png": "[encoded data removed]",
      "text/plain": [
       "<Figure size 432x288 with 1 Axes>"
      ]
     },
     "metadata": {
      "needs_background": "light"
     },
     "output_type": "display_data"
    },
    {
     "name": "stdout",
     "output_type": "stream",
     "text": [
      "Le point critique est égal à:  778.8624451120565\n"
     ]
    }
   ],
   "source": [
    "n=stats.norm.pdf(x=np.arange(500,1500), loc=1000, scale=1/math.sqrt(df.count())*1000)\n",
    "plt.plot(np.arange(500,1500),n)\n",
    "plt.axvline(1000-(1.64*1000)/math.sqrt(df.count()),color='r',label=\"La région de rejet\")\n",
    "plt.axvline(df.mean(),color='g',label=\"moyenne des données\")\n",
    "plt.legend(loc=\"upper right\")\n",
    "plt.show()\n",
    "print(\"Le point critique est égal à: \",(1000-(1.64*1000)/math.sqrt(df.count())))"
   ]
  },
  {
   "cell_type": "code",
   "execution_count": null,
   "metadata": {},
   "outputs": [],
   "source": []
  },
  {
   "cell_type": "code",
   "execution_count": null,
   "metadata": {},
   "outputs": [],
   "source": []
  },
  {
   "cell_type": "code",
   "execution_count": null,
   "metadata": {},
   "outputs": [],
   "source": []
  },
  {
   "cell_type": "code",
   "execution_count": null,
   "metadata": {},
   "outputs": [],
   "source": []
  }
 ],
 "metadata": {
  "kernelspec": {
   "display_name": "Python 3",
   "language": "python",
   "name": "python3"
  },
  "language_info": {
   "codemirror_mode": {
    "name": "ipython",
    "version": 3
   },
   "file_extension": ".py",
   "mimetype": "text/x-python",
   "name": "python",
   "nbconvert_exporter": "python",
   "pygments_lexer": "ipython3",
   "version": "3.8.8"
  }
 },
 "nbformat": 4,
 "nbformat_minor": 2
}

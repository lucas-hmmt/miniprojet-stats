{
 "cells": [
  {
   "cell_type": "markdown",
   "id": "8568e8ef",
   "metadata": {},
   "source": [
    "# Mini-projet - MDI220 Statistics"
   ]
  },
  {
   "cell_type": "code",
   "execution_count": 50,
   "id": "2e4ee3b3",
   "metadata": {},
   "outputs": [],
   "source": [
    "import pandas as pd\n",
    "import numpy as np\n",
    "import math\n",
    "from scipy import stats\n",
    "import matplotlib.pyplot as plt"
   ]
  },
  {
   "cell_type": "markdown",
   "id": "461329d5",
   "metadata": {},
   "source": [
    "## Question 1"
   ]
  },
  {
   "cell_type": "code",
   "execution_count": 40,
   "id": "218e2d29",
   "metadata": {},
   "outputs": [],
   "source": [
    "df = pd.read_csv('NuclearPowerAccidents2016.csv')"
   ]
  },
  {
   "cell_type": "code",
   "execution_count": 41,
   "id": "8f12e07e",
   "metadata": {},
   "outputs": [
    {
     "data": {
      "text/html": [
       "<div>\n",
       "<style scoped>\n",
       "    .dataframe tbody tr th:only-of-type {\n",
       "        vertical-align: middle;\n",
       "    }\n",
       "\n",
       "    .dataframe tbody tr th {\n",
       "        vertical-align: top;\n",
       "    }\n",
       "\n",
       "    .dataframe thead th {\n",
       "        text-align: right;\n",
       "    }\n",
       "</style>\n",
       "<table border=\"1\" class=\"dataframe\">\n",
       "  <thead>\n",
       "    <tr style=\"text-align: right;\">\n",
       "      <th></th>\n",
       "      <th>Date</th>\n",
       "      <th>Location</th>\n",
       "      <th>Cost (millions 2013US$)</th>\n",
       "      <th>INES</th>\n",
       "      <th>Smyth Magnitude</th>\n",
       "      <th>Region</th>\n",
       "      <th>Description</th>\n",
       "      <th>Fatalities</th>\n",
       "    </tr>\n",
       "  </thead>\n",
       "  <tbody>\n",
       "    <tr>\n",
       "      <th>0</th>\n",
       "      <td>4/26/1986</td>\n",
       "      <td>Kiev, Ukraine</td>\n",
       "      <td>259336.0</td>\n",
       "      <td>7.0</td>\n",
       "      <td>8.0</td>\n",
       "      <td>EE</td>\n",
       "      <td>Mishandled reactor safety test at Chernobyl nu...</td>\n",
       "      <td>4056</td>\n",
       "    </tr>\n",
       "    <tr>\n",
       "      <th>1</th>\n",
       "      <td>3/11/2011</td>\n",
       "      <td>Fukushima Prefecture, Japan</td>\n",
       "      <td>166089.0</td>\n",
       "      <td>7.0</td>\n",
       "      <td>7.5</td>\n",
       "      <td>A</td>\n",
       "      <td>An earthquake and tsunami caused emergency bac...</td>\n",
       "      <td>573</td>\n",
       "    </tr>\n",
       "    <tr>\n",
       "      <th>2</th>\n",
       "      <td>12/8/1995</td>\n",
       "      <td>Tsuruga, Japan</td>\n",
       "      <td>15500.0</td>\n",
       "      <td>NaN</td>\n",
       "      <td>NaN</td>\n",
       "      <td>A</td>\n",
       "      <td>Japan's only fast breeder reactor Monju suffer...</td>\n",
       "      <td>0</td>\n",
       "    </tr>\n",
       "    <tr>\n",
       "      <th>3</th>\n",
       "      <td>3/28/1979</td>\n",
       "      <td>Middletown, Pennsylvania, United States</td>\n",
       "      <td>10910.0</td>\n",
       "      <td>5.0</td>\n",
       "      <td>7.9</td>\n",
       "      <td>NaN</td>\n",
       "      <td>Equipment failure and operator error contribut...</td>\n",
       "      <td>0</td>\n",
       "    </tr>\n",
       "    <tr>\n",
       "      <th>4</th>\n",
       "      <td>9/11/1957</td>\n",
       "      <td>Rocky Flats, USA</td>\n",
       "      <td>8189.0</td>\n",
       "      <td>5.0</td>\n",
       "      <td>5.2</td>\n",
       "      <td>NaN</td>\n",
       "      <td>Fire starts and destroys plutonium processing ...</td>\n",
       "      <td>0</td>\n",
       "    </tr>\n",
       "  </tbody>\n",
       "</table>\n",
       "</div>"
      ],
      "text/plain": [
       "        Date                                 Location  \\\n",
       "0  4/26/1986                            Kiev, Ukraine   \n",
       "1  3/11/2011              Fukushima Prefecture, Japan   \n",
       "2  12/8/1995                           Tsuruga, Japan   \n",
       "3  3/28/1979  Middletown, Pennsylvania, United States   \n",
       "4  9/11/1957                         Rocky Flats, USA   \n",
       "\n",
       "   Cost (millions 2013US$)  INES  Smyth Magnitude Region  \\\n",
       "0                 259336.0   7.0              8.0     EE   \n",
       "1                 166089.0   7.0              7.5      A   \n",
       "2                  15500.0   NaN              NaN      A   \n",
       "3                  10910.0   5.0              7.9    NaN   \n",
       "4                   8189.0   5.0              5.2    NaN   \n",
       "\n",
       "                                         Description  Fatalities  \n",
       "0  Mishandled reactor safety test at Chernobyl nu...        4056  \n",
       "1  An earthquake and tsunami caused emergency bac...         573  \n",
       "2  Japan's only fast breeder reactor Monju suffer...           0  \n",
       "3  Equipment failure and operator error contribut...           0  \n",
       "4  Fire starts and destroys plutonium processing ...           0  "
      ]
     },
     "execution_count": 41,
     "metadata": {},
     "output_type": "execute_result"
    }
   ],
   "source": [
    "df.head()"
   ]
  },
  {
   "cell_type": "code",
   "execution_count": 42,
   "id": "3f2b9a92",
   "metadata": {},
   "outputs": [
    {
     "data": {
      "text/html": [
       "<div>\n",
       "<style scoped>\n",
       "    .dataframe tbody tr th:only-of-type {\n",
       "        vertical-align: middle;\n",
       "    }\n",
       "\n",
       "    .dataframe tbody tr th {\n",
       "        vertical-align: top;\n",
       "    }\n",
       "\n",
       "    .dataframe thead th {\n",
       "        text-align: right;\n",
       "    }\n",
       "</style>\n",
       "<table border=\"1\" class=\"dataframe\">\n",
       "  <thead>\n",
       "    <tr style=\"text-align: right;\">\n",
       "      <th></th>\n",
       "      <th>Cost (millions 2013US$)</th>\n",
       "      <th>INES</th>\n",
       "      <th>Smyth Magnitude</th>\n",
       "      <th>Fatalities</th>\n",
       "    </tr>\n",
       "  </thead>\n",
       "  <tbody>\n",
       "    <tr>\n",
       "      <th>count</th>\n",
       "      <td>175.000000</td>\n",
       "      <td>104.000000</td>\n",
       "      <td>33.000000</td>\n",
       "      <td>216.000000</td>\n",
       "    </tr>\n",
       "    <tr>\n",
       "      <th>mean</th>\n",
       "      <td>2892.647429</td>\n",
       "      <td>2.884615</td>\n",
       "      <td>3.293939</td>\n",
       "      <td>22.245370</td>\n",
       "    </tr>\n",
       "    <tr>\n",
       "      <th>std</th>\n",
       "      <td>23228.395686</td>\n",
       "      <td>1.463522</td>\n",
       "      <td>2.386412</td>\n",
       "      <td>278.570854</td>\n",
       "    </tr>\n",
       "    <tr>\n",
       "      <th>min</th>\n",
       "      <td>0.000000</td>\n",
       "      <td>0.000000</td>\n",
       "      <td>-2.700000</td>\n",
       "      <td>0.000000</td>\n",
       "    </tr>\n",
       "    <tr>\n",
       "      <th>25%</th>\n",
       "      <td>5.800000</td>\n",
       "      <td>2.000000</td>\n",
       "      <td>2.000000</td>\n",
       "      <td>0.000000</td>\n",
       "    </tr>\n",
       "    <tr>\n",
       "      <th>50%</th>\n",
       "      <td>37.500000</td>\n",
       "      <td>3.000000</td>\n",
       "      <td>3.200000</td>\n",
       "      <td>0.000000</td>\n",
       "    </tr>\n",
       "    <tr>\n",
       "      <th>75%</th>\n",
       "      <td>157.400000</td>\n",
       "      <td>4.000000</td>\n",
       "      <td>4.300000</td>\n",
       "      <td>0.000000</td>\n",
       "    </tr>\n",
       "    <tr>\n",
       "      <th>max</th>\n",
       "      <td>259336.000000</td>\n",
       "      <td>7.000000</td>\n",
       "      <td>8.000000</td>\n",
       "      <td>4056.000000</td>\n",
       "    </tr>\n",
       "  </tbody>\n",
       "</table>\n",
       "</div>"
      ],
      "text/plain": [
       "       Cost (millions 2013US$)        INES  Smyth Magnitude   Fatalities\n",
       "count               175.000000  104.000000        33.000000   216.000000\n",
       "mean               2892.647429    2.884615         3.293939    22.245370\n",
       "std               23228.395686    1.463522         2.386412   278.570854\n",
       "min                   0.000000    0.000000        -2.700000     0.000000\n",
       "25%                   5.800000    2.000000         2.000000     0.000000\n",
       "50%                  37.500000    3.000000         3.200000     0.000000\n",
       "75%                 157.400000    4.000000         4.300000     0.000000\n",
       "max              259336.000000    7.000000         8.000000  4056.000000"
      ]
     },
     "execution_count": 42,
     "metadata": {},
     "output_type": "execute_result"
    }
   ],
   "source": [
    "df.describe()"
   ]
  },
  {
   "cell_type": "code",
   "execution_count": 43,
   "id": "e4b80a19",
   "metadata": {},
   "outputs": [
    {
     "data": {
      "text/plain": [
       "Index(['Date', 'Location', 'Cost (millions 2013US$)', 'INES',\n",
       "       'Smyth Magnitude', 'Region', 'Description', 'Fatalities'],\n",
       "      dtype='object')"
      ]
     },
     "execution_count": 43,
     "metadata": {},
     "output_type": "execute_result"
    }
   ],
   "source": [
    "df.columns"
   ]
  },
  {
   "cell_type": "code",
   "execution_count": 44,
   "id": "ee91c47c",
   "metadata": {},
   "outputs": [],
   "source": [
    "#On retire les lignes où le coût est vide\n",
    "df = df.dropna(subset=['Cost (millions 2013US$)'])"
   ]
  },
  {
   "cell_type": "code",
   "execution_count": 45,
   "id": "2210d2b7",
   "metadata": {},
   "outputs": [],
   "source": [
    "#On commence par convertir les dates, qui sont de type \"string\", en date que Python pourra reconnaître\n",
    "df['Date'] = pd.to_datetime(df['Date'], dayfirst=True, format=\"%m/%d/%Y\")"
   ]
  },
  {
   "cell_type": "code",
   "execution_count": 47,
   "id": "79852910",
   "metadata": {},
   "outputs": [],
   "source": [
    "#Puis on filtre le dataset par rapport à la date de l'incident, le 28/03/1979\n",
    "df = df[df['Date'] < '1979-03-28']"
   ]
  },
  {
   "cell_type": "code",
   "execution_count": 49,
   "id": "16494d08",
   "metadata": {},
   "outputs": [
    {
     "data": {
      "text/plain": [
       "(55, 8)"
      ]
     },
     "execution_count": 49,
     "metadata": {},
     "output_type": "execute_result"
    }
   ],
   "source": [
    "#On vérifie l'information donnée par l'énoncé : il nous reste bien 55 observations\n",
    "df.shape"
   ]
  },
  {
   "cell_type": "code",
   "execution_count": null,
   "id": "2a3425d7",
   "metadata": {},
   "outputs": [],
   "source": [
    "#On ne conserve que la colonne des dates pour la suite :"
   ]
  },
  {
   "cell_type": "code",
   "execution_count": 54,
   "id": "f52d63f6",
   "metadata": {},
   "outputs": [
    {
     "data": {
      "text/plain": [
       "4      8189.0\n",
       "5      4400.0\n",
       "6      3500.0\n",
       "7      2900.0\n",
       "8      2500.0\n",
       "10     1964.5\n",
       "11     1900.0\n",
       "12     1733.4\n",
       "13     1500.0\n",
       "14     1330.0\n",
       "15     1300.0\n",
       "17     1100.0\n",
       "18     1100.0\n",
       "21      990.0\n",
       "24      800.0\n",
       "25      793.9\n",
       "26      788.4\n",
       "29      541.4\n",
       "30      511.5\n",
       "33      425.2\n",
       "38      277.1\n",
       "41      180.0\n",
       "44      150.0\n",
       "52      100.0\n",
       "53      100.0\n",
       "54       99.5\n",
       "55       98.0\n",
       "56       89.9\n",
       "58       87.7\n",
       "60       84.5\n",
       "62       77.0\n",
       "70       60.1\n",
       "73       52.4\n",
       "86       38.0\n",
       "87       37.5\n",
       "95       25.7\n",
       "96       25.7\n",
       "101      17.1\n",
       "103      16.1\n",
       "106      15.0\n",
       "108      13.9\n",
       "115      11.8\n",
       "121      11.4\n",
       "130       6.1\n",
       "135       4.4\n",
       "157       1.2\n",
       "158       1.1\n",
       "161       0.0\n",
       "162       0.0\n",
       "163       0.0\n",
       "164       0.0\n",
       "165       0.0\n",
       "166       0.0\n",
       "167       0.0\n",
       "168       0.0\n",
       "Name: Cost (millions 2013US$), dtype: float64"
      ]
     },
     "execution_count": 54,
     "metadata": {},
     "output_type": "execute_result"
    }
   ],
   "source": [
    "X = df['Cost (millions 2013US$)']\n",
    "X"
   ]
  },
  {
   "cell_type": "markdown",
   "id": "f0b870e3",
   "metadata": {},
   "source": [
    "## Question 2"
   ]
  },
  {
   "cell_type": "markdown",
   "id": "d4714863",
   "metadata": {},
   "source": [
    "A/ Fonction quantile d'une loi normale"
   ]
  },
  {
   "cell_type": "markdown",
   "id": "4b9b60c8",
   "metadata": {},
   "source": [
    "B/ Tracé d'un diagramme Quantile-Quantile (QQ-plot) pour la loi normale"
   ]
  },
  {
   "cell_type": "code",
   "execution_count": 56,
   "id": "be49b0ec",
   "metadata": {},
   "outputs": [
    {
     "data": {
      "text/plain": [
       "((array([-2.24067415, -1.87510362, -1.66006004, -1.50227431, -1.37493955,\n",
       "         -1.26666782, -1.17149966, -1.08590302, -1.00760151, -0.93503607,\n",
       "         -0.86708833, -0.80292598, -0.74191073, -0.68354056, -0.62741195,\n",
       "         -0.5731943 , -0.52061206, -0.4694319 , -0.41945333, -0.37050163,\n",
       "         -0.32242247, -0.27507767, -0.22834187, -0.18209983, -0.13624414,\n",
       "         -0.0906733 , -0.04529008,  0.        ,  0.04529008,  0.0906733 ,\n",
       "          0.13624414,  0.18209983,  0.22834187,  0.27507767,  0.32242247,\n",
       "          0.37050163,  0.41945333,  0.4694319 ,  0.52061206,  0.5731943 ,\n",
       "          0.62741195,  0.68354056,  0.74191073,  0.80292598,  0.86708833,\n",
       "          0.93503607,  1.00760151,  1.08590302,  1.17149966,  1.26666782,\n",
       "          1.37493955,  1.50227431,  1.66006004,  1.87510362,  2.24067415]),\n",
       "  array([0.0000e+00, 0.0000e+00, 0.0000e+00, 0.0000e+00, 0.0000e+00,\n",
       "         0.0000e+00, 0.0000e+00, 0.0000e+00, 1.1000e+00, 1.2000e+00,\n",
       "         4.4000e+00, 6.1000e+00, 1.1400e+01, 1.1800e+01, 1.3900e+01,\n",
       "         1.5000e+01, 1.6100e+01, 1.7100e+01, 2.5700e+01, 2.5700e+01,\n",
       "         3.7500e+01, 3.8000e+01, 5.2400e+01, 6.0100e+01, 7.7000e+01,\n",
       "         8.4500e+01, 8.7700e+01, 8.9900e+01, 9.8000e+01, 9.9500e+01,\n",
       "         1.0000e+02, 1.0000e+02, 1.5000e+02, 1.8000e+02, 2.7710e+02,\n",
       "         4.2520e+02, 5.1150e+02, 5.4140e+02, 7.8840e+02, 7.9390e+02,\n",
       "         8.0000e+02, 9.9000e+02, 1.1000e+03, 1.1000e+03, 1.3000e+03,\n",
       "         1.3300e+03, 1.5000e+03, 1.7334e+03, 1.9000e+03, 1.9645e+03,\n",
       "         2.5000e+03, 2.9000e+03, 3.5000e+03, 4.4000e+03, 8.1890e+03])),\n",
       " (1071.5607256749959, 726.3363636363639, 0.7438969625276352))"
      ]
     },
     "execution_count": 56,
     "metadata": {},
     "output_type": "execute_result"
    },
    {
     "data": {
      "image/png": "[encoded data removed]",
      "text/plain": [
       "<Figure size 720x720 with 1 Axes>"
      ]
     },
     "metadata": {
      "needs_background": "light"
     },
     "output_type": "display_data"
    }
   ],
   "source": [
    "plt.figure(figsize=(10,10))\n",
    "stats.probplot(X, fit=True, plot=plt)"
   ]
  },
  {
   "cell_type": "code",
   "execution_count": null,
   "id": "b47223e0",
   "metadata": {},
   "outputs": [],
   "source": []
  }
 ],
 "metadata": {
  "kernelspec": {
   "display_name": "Python 3",
   "language": "python",
   "name": "python3"
  },
  "language_info": {
   "codemirror_mode": {
    "name": "ipython",
    "version": 3
   },
   "file_extension": ".py",
   "mimetype": "text/x-python",
   "name": "python",
   "nbconvert_exporter": "python",
   "pygments_lexer": "ipython3",
   "version": "3.8.8"
  }
 },
 "nbformat": 4,
 "nbformat_minor": 5
}
